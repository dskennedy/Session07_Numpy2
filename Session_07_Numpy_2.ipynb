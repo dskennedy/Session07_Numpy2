{
 "cells": [
  {
   "cell_type": "code",
   "execution_count": 2,
   "metadata": {},
   "outputs": [
    {
     "name": "stdout",
     "output_type": "stream",
     "text": [
      "Input : \n",
      "\n",
      "[3, 5, 7, 2, 8, 10, 11, 65, 72, 81, 99, 100, 150]\n",
      "\n",
      "Moving average : \n",
      "\n",
      "[5.0, 4.667, 5.667, 6.667, 9.667, 28.667, 49.333, 72.667, 84.0, 93.333, 116.333]\n"
     ]
    }
   ],
   "source": [
    "inputs = [3, 5, 7, 2, 8, 10, 11, 65, 72, 81, 99, 100, 150] #declaring an array\n",
    "N = 3 # defining the window size\n",
    "cumulative, moving_aves = [0], [] #Declaring temp and output arrays\n",
    "\n",
    "for i, x in enumerate(inputs, 1): \n",
    "    cumulative.append(cumulative[i-1] + x) #colcualting cumulative \n",
    "    if i>=N:\n",
    "        moving_ave = round((cumulative[i] - cumulative[i-N])/N,3 ) #Calculating moving average\n",
    "        moving_aves.append(moving_ave) #Apending into an array\n",
    "\n",
    "print(\"Input : \\n\" )\n",
    "print(inputs)\n",
    "print(\"\\nMoving average : \\n\" )\n",
    "print(moving_aves) #Array with final list"
   ]
  },
  {
   "cell_type": "code",
   "execution_count": null,
   "metadata": {},
   "outputs": [],
   "source": []
  }
 ],
 "metadata": {
  "kernelspec": {
   "display_name": "Python 3",
   "language": "python",
   "name": "python3"
  },
  "language_info": {
   "codemirror_mode": {
    "name": "ipython",
    "version": 3
   },
   "file_extension": ".py",
   "mimetype": "text/x-python",
   "name": "python",
   "nbconvert_exporter": "python",
   "pygments_lexer": "ipython3",
   "version": "3.7.0"
  }
 },
 "nbformat": 4,
 "nbformat_minor": 2
}
