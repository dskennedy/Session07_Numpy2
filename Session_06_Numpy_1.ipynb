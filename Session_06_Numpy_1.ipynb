{
 "cells": [
  {
   "cell_type": "code",
   "execution_count": 26,
   "metadata": {},
   "outputs": [],
   "source": [
    "import numpy as np"
   ]
  },
  {
   "cell_type": "code",
   "execution_count": 66,
   "metadata": {},
   "outputs": [
    {
     "name": "stdout",
     "output_type": "stream",
     "text": [
      "\n",
      " Generate array with default length \n",
      "\n",
      "[[  1   1   1   1   1]\n",
      " [ 16   8   4   2   1]\n",
      " [ 81  27   9   3   1]\n",
      " [256  64  16   4   1]\n",
      " [625 125  25   5   1]]\n",
      "\n",
      " Generate with specific length \n",
      "\n",
      "[[  1   1   1   1]\n",
      " [  8   4   2   1]\n",
      " [ 27   9   3   1]\n",
      " [ 64  16   4   1]\n",
      " [125  25   5   1]]\n",
      "\n",
      " Generate with increasing order \n",
      "\n",
      "[[  1   1   1   1   1]\n",
      " [  1   2   4   8  16]\n",
      " [  1   3   9  27  81]\n",
      " [  1   4  16  64 256]\n",
      " [  1   5  25 125 625]]\n",
      "\n",
      " Generate array with specific length and increasing order \n",
      "\n",
      "[[  1   1   1   1]\n",
      " [  1   2   4   8]\n",
      " [  1   3   9  27]\n",
      " [  1   4  16  64]\n",
      " [  1   5  25 125]]\n"
     ]
    }
   ],
   "source": [
    "# My own function to achive the problem;\n",
    "\n",
    "def get_powerMatrix(vector, length=0, increasing=False): #function definion\n",
    "    final_list=[]\n",
    "    m=0\n",
    "    if length==0: #checking the length to be build\n",
    "        for i in vector:\n",
    "            temp_list=[]\n",
    "            for le in range(0,len(vector)):\n",
    "                temp_list.append(i**le) #Apending each element of the array.\n",
    "            if increasing is False:\n",
    "                temp_list.reverse() #checks the order and prepare the elements.\n",
    "            final_list.append(temp_list)\n",
    "            \n",
    "    else:\n",
    "        for i in vector:\n",
    "            temp_list=[]\n",
    "            for le in range(0,length):\n",
    "                temp_list.append(i**le) #Apending each element of the array.\n",
    "            if increasing is False:\n",
    "                temp_list.reverse()     #checks the order and prepare the elements.           \n",
    "            final_list.append(temp_list)\n",
    "            \n",
    "    return np.array(final_list) # Returns array.\n",
    "\n",
    "in_vec=np.array([1,2,3,4,5])\n",
    "\n",
    "print('\\n Generate array with default length \\n')\n",
    "print(get_powerMatrix(in_vec)) # calling the function with default argument\n",
    "\n",
    "print('\\n Generate with specific length \\n')\n",
    "print(get_powerMatrix(in_vec,4)) # calling the function with size\n",
    "\n",
    "print('\\n Generate with increasing order \\n')\n",
    "print(get_powerMatrix(in_vec, increasing=True)) # calling the function with size and order Fasle to get N-i-1\n",
    "\n",
    "print('\\n Generate array with specific length and increasing order \\n')\n",
    "print(get_powerMatrix(in_vec,4,True))\n"
   ]
  },
  {
   "cell_type": "code",
   "execution_count": 64,
   "metadata": {},
   "outputs": [
    {
     "name": "stdout",
     "output_type": "stream",
     "text": [
      "\n",
      " Generate array with default \n",
      "\n",
      "[[  1   1   1   1   1]\n",
      " [ 16   8   4   2   1]\n",
      " [ 81  27   9   3   1]\n",
      " [256  64  16   4   1]\n",
      " [625 125  25   5   1]]\n",
      "\n",
      " Generate array with specific length \n",
      "\n",
      "[[  1   1   1   1]\n",
      " [  8   4   2   1]\n",
      " [ 27   9   3   1]\n",
      " [ 64  16   4   1]\n",
      " [125  25   5   1]]\n",
      "\n",
      " Generate array with increasing order \n",
      "\n",
      "[[  1   1   1   1   1]\n",
      " [  1   2   4   8  16]\n",
      " [  1   3   9  27  81]\n",
      " [  1   4  16  64 256]\n",
      " [  1   5  25 125 625]]\n",
      "\n",
      " Generate array with specific length and increasing order \n",
      "\n",
      "[[  1   1   1   1]\n",
      " [  1   2   4   8]\n",
      " [  1   3   9  27]\n",
      " [  1   4  16  64]\n",
      " [  1   5  25 125]]\n"
     ]
    }
   ],
   "source": [
    "#Getting the output with the build in function\n",
    "\n",
    "in_vec=np.array([1,2,3,4,5])\n",
    "\n",
    "print('\\n Generate array with default \\n')\n",
    "print(np.vander(in_vec))\n",
    "\n",
    "print('\\n Generate array with specific length \\n')\n",
    "print(np.vander(in_vec,4))\n",
    "\n",
    "print('\\n Generate array with increasing order \\n')\n",
    "print(np.vander(in_vec,increasing=True))\n",
    "\n",
    "print('\\n Generate array with specific length and increasing order \\n')\n",
    "print(np.vander(in_vec,4,True))"
   ]
  },
  {
   "cell_type": "code",
   "execution_count": null,
   "metadata": {},
   "outputs": [],
   "source": []
  }
 ],
 "metadata": {
  "kernelspec": {
   "display_name": "Python 3",
   "language": "python",
   "name": "python3"
  },
  "language_info": {
   "codemirror_mode": {
    "name": "ipython",
    "version": 3
   },
   "file_extension": ".py",
   "mimetype": "text/x-python",
   "name": "python",
   "nbconvert_exporter": "python",
   "pygments_lexer": "ipython3",
   "version": "3.7.0"
  }
 },
 "nbformat": 4,
 "nbformat_minor": 2
}
